{
 "cells": [
  {
   "cell_type": "code",
   "execution_count": 1,
   "metadata": {},
   "outputs": [],
   "source": [
    "import numpy as np\n",
    "import porespy as ps\n",
    "import matplotlib.pyplot as plt\n",
    "ps.visualization.set_mpl_style()\n",
    "np.random.seed(10)"
   ]
  },
  {
   "cell_type": "markdown",
   "metadata": {},
   "source": [
    "insert_shape uses the inputs of im, element, center=None, corner=None, value=1, mode=\"overwrite\" to insert the element into the image. The center and corner variables determine where the element is inserted witin the image, and the value determines how the element is scaled. Mode is to specify if the element added overwirtes the image, or if it is overlayed ith the image."
   ]
  },
  {
   "cell_type": "code",
   "execution_count": 2,
   "metadata": {},
   "outputs": [
    {
     "name": "stdout",
     "output_type": "stream",
     "text": [
      "[[[9 4 0 1 9]\n",
      "  [0 1 8 9 0]\n",
      "  [8 6 4 3 0]\n",
      "  [4 6 8 1 8]\n",
      "  [4 1 3 6 5]]\n",
      "\n",
      " [[3 9 6 9 1]\n",
      "  [9 4 2 6 7]\n",
      "  [8 8 9 2 0]\n",
      "  [6 7 8 1 7]\n",
      "  [1 4 0 8 5]]\n",
      "\n",
      " [[4 7 8 8 2]\n",
      "  [6 2 8 8 6]\n",
      "  [6 5 6 0 0]\n",
      "  [6 9 1 8 9]\n",
      "  [1 2 8 9 9]]\n",
      "\n",
      " [[5 0 2 7 3]\n",
      "  [0 4 2 0 3]\n",
      "  [3 1 2 5 9]\n",
      "  [0 1 0 1 9]\n",
      "  [0 9 2 1 1]]\n",
      "\n",
      " [[0 0 5 9 0]\n",
      "  [4 6 6 0 2]\n",
      "  [3 3 2 6 0]\n",
      "  [5 1 3 6 5]\n",
      "  [5 1 8 0 5]]]\n",
      "[[[9 8 5]\n",
      "  [7 8 5]\n",
      "  [8 9 9]]\n",
      "\n",
      " [[1 5 9]\n",
      "  [1 4 7]\n",
      "  [7 7 9]]\n",
      "\n",
      " [[7 6 0]\n",
      "  [3 9 4]\n",
      "  [4 6 8]]]\n"
     ]
    }
   ],
   "source": [
    "image = np.random.randint(10, size=(5,5,5))\n",
    "element =np.random.randint(10, size=(3,3,3))\n",
    "print(image)\n",
    "print(element)"
   ]
  },
  {
   "cell_type": "markdown",
   "metadata": {},
   "source": [
    "The image array and shape array are both arrays of the same dimensions, in this case 3-dimensional arrays."
   ]
  },
  {
   "cell_type": "code",
   "execution_count": 3,
   "metadata": {},
   "outputs": [
    {
     "data": {
      "text/plain": [
       "array([[[9, 8, 5, 1, 9],\n",
       "        [7, 8, 5, 9, 0],\n",
       "        [8, 9, 9, 3, 0],\n",
       "        [4, 6, 8, 1, 8],\n",
       "        [4, 1, 3, 6, 5]],\n",
       "\n",
       "       [[1, 5, 9, 9, 1],\n",
       "        [1, 4, 7, 6, 7],\n",
       "        [7, 7, 9, 2, 0],\n",
       "        [6, 7, 8, 1, 7],\n",
       "        [1, 4, 0, 8, 5]],\n",
       "\n",
       "       [[7, 6, 0, 8, 2],\n",
       "        [3, 9, 4, 8, 6],\n",
       "        [4, 6, 8, 0, 0],\n",
       "        [6, 9, 1, 8, 9],\n",
       "        [1, 2, 8, 9, 9]],\n",
       "\n",
       "       [[5, 0, 2, 7, 3],\n",
       "        [0, 4, 2, 0, 3],\n",
       "        [3, 1, 2, 5, 9],\n",
       "        [0, 1, 0, 1, 9],\n",
       "        [0, 9, 2, 1, 1]],\n",
       "\n",
       "       [[0, 0, 5, 9, 0],\n",
       "        [4, 6, 6, 0, 2],\n",
       "        [3, 3, 2, 6, 0],\n",
       "        [5, 1, 3, 6, 5],\n",
       "        [5, 1, 8, 0, 5]]])"
      ]
     },
     "execution_count": 3,
     "metadata": {},
     "output_type": "execute_result"
    }
   ],
   "source": [
    "ps.generators.insert_shape(image, element, center=None, corner=[0,0,0], value=1, mode=\"overwrite\")"
   ]
  },
  {
   "cell_type": "markdown",
   "metadata": {},
   "source": [
    "The element has been added to the image. Since the mode was \"overwrite\" and the corner was [0,0,0], the image was overwritten with the element anchored in the [0,0,0] corner."
   ]
  },
  {
   "cell_type": "code",
   "execution_count": null,
   "metadata": {},
   "outputs": [],
   "source": []
  },
  {
   "cell_type": "code",
   "execution_count": null,
   "metadata": {},
   "outputs": [],
   "source": []
  }
 ],
 "metadata": {
  "kernelspec": {
   "display_name": "Python 3",
   "language": "python",
   "name": "python3"
  },
  "language_info": {
   "codemirror_mode": {
    "name": "ipython",
    "version": 3
   },
   "file_extension": ".py",
   "mimetype": "text/x-python",
   "name": "python",
   "nbconvert_exporter": "python",
   "pygments_lexer": "ipython3",
   "version": "3.8.5"
  }
 },
 "nbformat": 4,
 "nbformat_minor": 4
}
